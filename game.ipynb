{
 "cells": [
  {
   "cell_type": "code",
   "execution_count": null,
   "metadata": {},
   "outputs": [],
   "source": [
    "from TetrisBattle.envs.tetris_env import TetrisSingleEnv, TetrisDoubleEnv\n",
    "from agent.Agent import Agent\n",
    "# from Agent import Agent1\n",
    "\n",
    "import matplotlib.pyplot as plt\n",
    "import cv2\n",
    "# from Agent import Agent\n",
    "\n",
    "env = TetrisDoubleEnv()\n",
    "\n",
    "done = False\n",
    "state = env.reset()\n",
    "agent_1 = Agent(\"\")\n",
    "agent_list = Agent(\"\")\n",
    "agent_list = [agent_1, agent_list]"
   ]
  },
  {
   "cell_type": "code",
   "execution_count": null,
   "metadata": {},
   "outputs": [],
   "source": [
    "state = env.reset()\n",
    "plt.imshow(env.render(mode='rgb_array'))"
   ]
  },
  {
   "cell_type": "code",
   "execution_count": null,
   "metadata": {},
   "outputs": [],
   "source": [
    "# env.step(3)\n",
    "# plt.imshow(env.render(mode='rgb_array'))"
   ]
  },
  {
   "cell_type": "code",
   "execution_count": null,
   "metadata": {},
   "outputs": [],
   "source": [
    "while not done:   \n",
    "    # action = agent_list.choose_action(state)\n",
    "    # print(\"action:\",action)\n",
    "    # state, reward, done, _ = env.step(action)\n",
    "\n",
    "    action = agent_list[env.game_interface.getCurrentPlayerID()].choose_action(state)\n",
    "    state, reward, done, _ = env.step(action)\n",
    "    env.take_turns()\n",
    "    cv2.imshow(\"img\",env.render(mode='rgb_array'))\n",
    "    cv2.waitKey(100)"
   ]
  },
  {
   "cell_type": "code",
   "execution_count": null,
   "metadata": {},
   "outputs": [],
   "source": [
    "action = agent_list[env.game_interface.getCurrentPlayerID()].choose_action(state)\n",
    "print(\"action:\",action)\n",
    "state, reward, done, _ = env.step(action)\n",
    "plt.imshow(env.render(mode='rgb_array'))\n",
    "env.take_turns()\n"
   ]
  },
  {
   "cell_type": "code",
   "execution_count": null,
   "metadata": {},
   "outputs": [],
   "source": [
    "action = agent_list.choose_action(state)\n",
    "print(\"action:\",action)\n",
    "state, reward, done, _ = env.step(action)\n",
    "plt.imshow(env.render(mode='rgb_array'))\n",
    "env.take_turns()\n"
   ]
  },
  {
   "cell_type": "code",
   "execution_count": null,
   "metadata": {},
   "outputs": [],
   "source": []
  },
  {
   "cell_type": "code",
   "execution_count": null,
   "metadata": {},
   "outputs": [],
   "source": []
  }
 ],
 "metadata": {
  "kernelspec": {
   "display_name": "Python 3",
   "language": "python",
   "name": "python3"
  },
  "language_info": {
   "codemirror_mode": {
    "name": "ipython",
    "version": 3
   },
   "file_extension": ".py",
   "mimetype": "text/x-python",
   "name": "python",
   "nbconvert_exporter": "python",
   "pygments_lexer": "ipython3",
   "version": "3.11.4"
  },
  "orig_nbformat": 4
 },
 "nbformat": 4,
 "nbformat_minor": 2
}
